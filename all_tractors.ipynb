{
 "cells": [
  {
   "cell_type": "code",
   "execution_count": 19,
   "metadata": {
    "collapsed": true
   },
   "outputs": [],
   "source": [
    "%matplotlib inline\n",
    "%config InlineBackend.figure_format = 'retina'\n",
    "import os\n",
    "from astropy.table import Table, vstack, Column\n",
    "from astropy.io import ascii\n",
    "import scipy, pylab\n",
    "import matplotlib.pyplot as plt\n",
    "import numpy as np\n",
    "import pandas as pd\n",
    "from astropy.io import fits as pyfits"
   ]
  },
  {
   "cell_type": "code",
   "execution_count": 138,
   "metadata": {
    "collapsed": true
   },
   "outputs": [],
   "source": [
    "# ----Cut out objects clustered around bright stars using starcoords ---- #\n",
    "def nthneighbor(ra, dec):\n",
    "    # input ra, dec arrays -- we can call each objects as c[i]\n",
    "    c = SkyCoord(ra, dec, unit='deg')\n",
    "    \n",
    "    idx, seps, _ = c.match_to_catalog_sky(c,nthneighbor=3)\n",
    "    minsep = 60 # arcsecs\n",
    "    cut = seps.arcsec > minsep   # make sure we're using proper units, want to look at objects \n",
    "                                 # in separation threshold to see if we've cleaned up the data\n",
    "    return cut                   # boolean array of indexes we want to use"
   ]
  },
  {
   "cell_type": "code",
   "execution_count": 21,
   "metadata": {
    "collapsed": true
   },
   "outputs": [],
   "source": [
    "def starmask(ra, dec):\n",
    "    from astropy import units as u\n",
    "    from astropy.coordinates import SkyCoord\n",
    "    \n",
    "    #take out bright stars as well\n",
    "    # legacy candidates\n",
    "    #cat = Table.read('legacy-lsbg-candidates.fits')\n",
    "\n",
    "    # Tycho-2 catlaog from Pickles & Depagne (2010) \n",
    "    tb = Table.read('tycho.fits')\n",
    "    tb.rename_column('RAJ2000', 'ra')\n",
    "    tb.rename_column('DEJ2000', 'dec')\n",
    "\n",
    "    # mag cut\n",
    "    tb = tb[tb['Vfmag']<11.5]\n",
    "\n",
    "    # position cut\n",
    "    pos_cut = (((tb['ra'] > 290) | (tb['ra'] < 80)) & (tb['dec'] > -21))\n",
    "    pos_cut |= (((tb['ra'] < 260) & (tb['ra'] > 120)) & (tb['dec'] > -10))\n",
    "    tb = tb[pos_cut]\n",
    "    \n",
    "    min_sep = 60 # arcsec\n",
    "\n",
    "    cat_coord = SkyCoord(ra, dec, unit='deg')\n",
    "    tycho_coord = SkyCoord(tb['ra'], tb['dec'], unit='deg')\n",
    "    idx, sepz, _ = cat_coord.match_to_catalog_sky(tycho_coord)\n",
    "    #print((sepz.arcsec > min_sep).sum(), 'candidates near bright stars')\n",
    "\n",
    "    cut = sepz.arcsec > min_sep    # get all objects that are above this minimum separation from bright stars\n",
    "    \n",
    "    return cut"
   ]
  },
  {
   "cell_type": "code",
   "execution_count": 161,
   "metadata": {
    "collapsed": true
   },
   "outputs": [],
   "source": [
    "# create function to extract files from each tractor file\n",
    "\n",
    "def extract_tractor(directory):\n",
    "\n",
    "    #directory = \"/scratch/jgreco/tractor/191\" # the directory we're going to work with\n",
    "    # initialize all the arrays I want to construct\n",
    "    \n",
    "    columns = ['flux_r', 'flux_g', 'flux_z', 'shapeexp_e1', 'shapeexp_e2', 'psfsize_r']\n",
    "    apfluxes = ['apflux_r', 'apflux_g', 'apflux_z']\n",
    "    \n",
    "    flux_r = []\n",
    "    flux_g = []\n",
    "    flux_z = []\n",
    "    shapeexp_r = []\n",
    "    shapeexp_e1 = []\n",
    "    shapeexp_e2 = []\n",
    "    apflux_r = [] \n",
    "    apflux_g = []\n",
    "    apflux_z = []\n",
    "    \n",
    "    csb_g = []\n",
    "    \n",
    "    psfsize_r = []\n",
    "    \n",
    "    apid = ['0.5', '0.75', '1.0', '1.5', '2.0', '3.5', '5.0', '7.0']\n",
    "    aparray_r = [[] for i in range(8)]\n",
    "    aparray_g = [[] for i in range(8)] # create empty list of lists to fill with all aperture vals\n",
    "    aparray_z = [[] for i in range(8)] \n",
    "\n",
    "    # coordinate info\n",
    "    objid = []\n",
    "    typ = []\n",
    "    ra = []\n",
    "    dec = []\n",
    "\n",
    "\n",
    "    for fname in os.listdir(directory):     # iterate through the directory\n",
    "        filename = os.fsdecode(fname)\n",
    "\n",
    "        if filename.endswith(\".fits\"):\n",
    "            #print(os.path.join(directory, filename))\n",
    "\n",
    "            file = os.path.join(directory, filename)\n",
    "            t2 = pyfits.open(file)         # open file using pyfits\n",
    "            data = t2[1].data              # get the data from the file\n",
    "             \n",
    "            \n",
    "                \n",
    "            t2.close()                     # close file so we don't get bogged down\n",
    "            \n",
    "            \n",
    "            # construct boolean mask to enforce our cuts (and so that we don't overload the for loop)\n",
    "            keep = (data['flux_r']>0.0) & (data['flux_r']<1e3)\n",
    "            keep &= (data['type']!=\"PSF \")\n",
    "            \n",
    "            #cols = data.columns.names[16:]  \n",
    "            #names = cols.names[3:]   # want everything except ra, dec data (clean out gross numbers)\n",
    "            names = [cols for column in cols if column.startswith('apflux')]\n",
    "            for i in range(len(names)):\n",
    "                keep &= (data[names[i]]>0.0) & (data[names[i]]<1e3)\n",
    "                keep &= ~np.isnan(data[names[i]])\n",
    "                keep &= ~np.isinf(data[names[i]])\n",
    "            \n",
    "            #for ap in range(len(apfluxes)):\n",
    "                #for i in range(8):\n",
    "                    #keep &= data[apfluxes[ap]][:,i] > 0.0\n",
    "                    #keep &= data[apfluxes[ap]][:,i] < 1e3\n",
    "                    #keep &= ~np.isnan(data[apfluxes[ap]][:,i])\n",
    "                    #keep &= ~np.isinf(data[apfluxes[ap]][:,i])\n",
    "                \n",
    "            # keep the cuts by overwriting the data table\n",
    "            \n",
    "            t = data[keep]\n",
    "            \n",
    "            \n",
    "            \n",
    "            # convert model fluxes to magnitudes and make cuts\n",
    "            magg = (22.5-2.5*np.log10(t[\"flux_g\"]))\n",
    "            magr = (22.5-2.5*np.log10(t[\"flux_r\"]))\n",
    "            magz = (22.5-2.5*np.log10(t[\"flux_z\"]))\n",
    "\n",
    "            mask = (magg < 22.5)\n",
    "            mask &= (magg>19.)\n",
    "            mask &= (magr<23.) & (magz<23.)\n",
    "            mask &= (magr>19.) & (magz>19.)\n",
    "            \n",
    "            #t = t[mask]\n",
    "            \n",
    "            \n",
    "            # cut out objects with central surface brightness (2.0 arcsec ap flux) brighter than 19.\n",
    "            ap_r = 22.5 - 2.5*np.log10(t[\"apflux_r\"][:,4])\n",
    "            ap_g = 22.5 - 2.5*np.log10(t[\"apflux_g\"][:,4])\n",
    "            ap_z = 22.5 - 2.5*np.log10(t[\"apflux_z\"][:,4])\n",
    "                \n",
    "            mask &= (ap_g < 22.5)                \n",
    "            mask &= (ap_r<23.) & (ap_z<23.)\n",
    "            mask &= (ap_g > 19.)  \n",
    "            mask &= (ap_r > 19.)\n",
    "            mask &= (ap_z > 19.)\n",
    "            \n",
    "            \n",
    "            # get size information and make an exponential radius cut at 5 arcseconds\n",
    "            radius = 5.0    #arcseconds\n",
    "            mask &= t['shapeexp_r'] > radius\n",
    "            # update table\n",
    "            #t = t[mask1]\n",
    "            \n",
    "            \n",
    "            # make nth neighbor and bright star cuts\n",
    "            # first take out stars\n",
    "           # if len(t['ra'] > 1):\n",
    "               # mask &= starmask(t['ra'], t['dec'])\n",
    "               # mask &= nthneighbor(t['ra'], t['dec'])\n",
    "            \n",
    "            \n",
    "\n",
    "            \n",
    "            # for central surface brightness\n",
    "            aperture = 2.0  # central aperture\n",
    "            csb_g = ap_g + 2.5*np.log10((np.pi*((aperture**2))))           # central surface brightness of aperture in g band\n",
    "            \n",
    "            \n",
    "            # mask over the final table\n",
    "            \n",
    "            tfinal = t[mask].copy()\n",
    "\n",
    "            # get coordinate info\n",
    "            typ = np.concatenate((np.asarray(typ), tfinal[\"type\"]), axis=0)\n",
    "            objid = np.concatenate((np.asarray(objid), tfinal[\"objid\"]), axis=0)\n",
    "            ra = np.concatenate((np.asarray(ra), tfinal[\"ra\"]), axis=0)\n",
    "            dec = np.concatenate((np.asarray(dec), tfinal[\"dec\"]), axis=0)\n",
    "\n",
    "            #psf_size for r band\n",
    "            psfsize_r = np.concatenate((np.asarray(psfsize_r), tfinal[\"psfsize_r\"]), axis=0)\n",
    "\n",
    "            # for r band data\n",
    "            flux_r = np.concatenate((np.asarray(flux_r), magr[mask]), axis=0)  # assemble the big flux_r array in mags\n",
    "            shapeexp_r = np.concatenate((np.asarray(shapeexp_r), tfinal[\"shapeexp_r\"]), axis=0)\n",
    "            shapeexp_e1 = np.concatenate((np.asarray(shapeexp_e1), tfinal[\"shapeexp_e1\"]), axis=0)\n",
    "            shapeexp_e2 = np.concatenate((np.asarray(shapeexp_e2), tfinal[\"shapeexp_e2\"]), axis=0)\n",
    "\n",
    "\n",
    "\n",
    "            # for g band data\n",
    "            flux_g = np.concatenate((np.asarray(flux_g), magg[mask]), axis=0)  # assemble the big flux_r array\n",
    "            \n",
    "            csb_g = np.concatenate((np.asarray(flux_g), csb_g[mask]), axis=0)\n",
    "            # for z band data \n",
    "            flux_z = np.concatenate((np.asarray(flux_z), magz[mask]), axis=0)  # assemble the big flux_r array \n",
    "            \n",
    "            \n",
    "            \n",
    "            \n",
    "            for ap in range(len(apid)):   # fill in all aperture arrays in list of arrays\n",
    "                # convert aperture fluxes to magnitudes\n",
    "                \n",
    "                rmag = 22.5 - 2.5*np.log10(tfinal[\"apflux_r\"][:,ap])\n",
    "                gmag = 22.5 - 2.5*np.log10(tfinal[\"apflux_g\"][:,ap])\n",
    "                zmag = 22.5 - 2.5*np.log10(tfinal[\"apflux_z\"][:,ap])\n",
    "                \n",
    "                aparray_r[ap] = np.concatenate((np.asarray(aparray_r[ap]), rmag)) # get all aperture mags\n",
    "                aparray_g[ap] = np.concatenate((np.asarray(aparray_g[ap]), gmag))\n",
    "                aparray_z[ap] = np.concatenate((np.asarray(aparray_z[ap]), zmag))\n",
    "                \n",
    "    # once we're done concatenating all the arrays we want, let's put the results into a table\n",
    "    \n",
    "    t = Table()\n",
    "    \n",
    "    t['ra'] = Column(ra, unit='deg', description='object right ascension')\n",
    "    t['dec'] = Column(dec, unit='deg', description='object declination')\n",
    "\n",
    "    t['type'] = Column(typ, unit = '', description='object type char[4]')\n",
    "    t['objid'] = Column(objid, unit='', description='integer ID tag for object')\n",
    "\n",
    "    t['flux_r'] = Column(flux_r, unit='magnitude', description='flux_r')\n",
    "    t['flux_g'] = Column(flux_g, unit='magnitude', description='flux_g')\n",
    "    t['flux_z'] = Column(flux_z, unit='magnitude', description='flux_z')\n",
    "\n",
    "    # aperture fluxes\n",
    "    for i in range(8):\n",
    "        apname_r = \"apflux_\" + apid[i] + \"_r\"\n",
    "        apname_g = \"apflux_\" + apid[i] + \"_g\"\n",
    "        apname_z = \"apflux_\" + apid[i] + \"_z\"\n",
    "        t[apname_r] = Column(aparray_r[i], unit='magnitude', description = \"apname_r\")\n",
    "        t[apname_g] = Column(aparray_g[i], unit='magnitude', description = \"apname_g\")\n",
    "        t[apname_z] = Column(aparray_z[i], unit='magnitude', description = \"apname_z\")\n",
    "\n",
    "    t['shapeexp_r'] = Column(shapeexp_r, unit='arcsec', description = 'exponential shape half-light radius')\n",
    "    t['shapeexp_e1'] = Column(shapeexp_e1, unit='arcsec', description = 'ellipticipy argument 1')\n",
    "    t['shapeexp_e2'] = Column(shapeexp_e2, unit='arcsec', description = 'ellipticipy argument 2')\n",
    "    t['psfsize_r'] = Column(psfsize_r, unit='arcsec', description = 'weighted average PSF FWHM in r band')\n",
    "    t['csb_g'] = Column(csb_g, unit='mag/arcsec^2', description = 'central surface brightness in g-band')\n",
    "    \n",
    "    # return the table object\n",
    "    return t\n"
   ]
  },
  {
   "cell_type": "code",
   "execution_count": 157,
   "metadata": {
    "scrolled": true
   },
   "outputs": [
    {
     "name": "stderr",
     "output_type": "stream",
     "text": [
      "/u/tmakinen/anaconda3/lib/python3.6/site-packages/ipykernel_launcher.py:91: RuntimeWarning: invalid value encountered in log10\n",
      "/u/tmakinen/anaconda3/lib/python3.6/site-packages/ipykernel_launcher.py:94: RuntimeWarning: invalid value encountered in less\n",
      "/u/tmakinen/anaconda3/lib/python3.6/site-packages/ipykernel_launcher.py:96: RuntimeWarning: invalid value encountered in greater\n",
      "/u/tmakinen/anaconda3/lib/python3.6/site-packages/ipykernel_launcher.py:91: RuntimeWarning: divide by zero encountered in log10\n",
      "/u/tmakinen/anaconda3/lib/python3.6/site-packages/ipykernel_launcher.py:90: RuntimeWarning: invalid value encountered in log10\n",
      "/u/tmakinen/anaconda3/lib/python3.6/site-packages/ipykernel_launcher.py:95: RuntimeWarning: invalid value encountered in less\n",
      "/u/tmakinen/anaconda3/lib/python3.6/site-packages/ipykernel_launcher.py:97: RuntimeWarning: invalid value encountered in greater\n",
      "/u/tmakinen/anaconda3/lib/python3.6/site-packages/ipykernel_launcher.py:92: RuntimeWarning: invalid value encountered in log10\n",
      "/u/tmakinen/anaconda3/lib/python3.6/site-packages/ipykernel_launcher.py:98: RuntimeWarning: invalid value encountered in greater\n",
      "/u/tmakinen/anaconda3/lib/python3.6/site-packages/ipykernel_launcher.py:156: RuntimeWarning: invalid value encountered in log10\n",
      "/u/tmakinen/anaconda3/lib/python3.6/site-packages/ipykernel_launcher.py:90: RuntimeWarning: divide by zero encountered in log10\n",
      "/u/tmakinen/anaconda3/lib/python3.6/site-packages/ipykernel_launcher.py:92: RuntimeWarning: divide by zero encountered in log10\n"
     ]
    }
   ],
   "source": [
    "directory = \"/scratch/jgreco/tractor/191\"\n",
    "\n",
    "test = extract_tractor(directory)"
   ]
  },
  {
   "cell_type": "code",
   "execution_count": 158,
   "metadata": {},
   "outputs": [
    {
     "data": {
      "text/html": [
       "&lt;Table length=75&gt;\n",
       "<table id=\"table139899846411824\" class=\"table-striped table-bordered table-condensed\">\n",
       "<thead><tr><th>ra</th><th>dec</th><th>type</th><th>objid</th><th>flux_r</th><th>flux_g</th><th>flux_z</th><th>apflux_0.5_r</th><th>apflux_0.5_g</th><th>apflux_0.5_z</th><th>apflux_0.75_r</th><th>apflux_0.75_g</th><th>apflux_0.75_z</th><th>apflux_1.0_r</th><th>apflux_1.0_g</th><th>apflux_1.0_z</th><th>apflux_1.5_r</th><th>apflux_1.5_g</th><th>apflux_1.5_z</th><th>apflux_2.0_r</th><th>apflux_2.0_g</th><th>apflux_2.0_z</th><th>apflux_3.5_r</th><th>apflux_3.5_g</th><th>apflux_3.5_z</th><th>apflux_5.0_r</th><th>apflux_5.0_g</th><th>apflux_5.0_z</th><th>apflux_7.0_r</th><th>apflux_7.0_g</th><th>apflux_7.0_z</th><th>shapeexp_r</th><th>shapeexp_e1</th><th>shapeexp_e2</th><th>psfsize_r</th><th>csb_g</th></tr></thead>\n",
       "<thead><tr><th>deg</th><th>deg</th><th></th><th></th><th>magnitude</th><th>magnitude</th><th>magnitude</th><th>magnitude</th><th>magnitude</th><th>magnitude</th><th>magnitude</th><th>magnitude</th><th>magnitude</th><th>magnitude</th><th>magnitude</th><th>magnitude</th><th>magnitude</th><th>magnitude</th><th>magnitude</th><th>magnitude</th><th>magnitude</th><th>magnitude</th><th>magnitude</th><th>magnitude</th><th>magnitude</th><th>magnitude</th><th>magnitude</th><th>magnitude</th><th>magnitude</th><th>magnitude</th><th>magnitude</th><th>arcsec</th><th>arcsec</th><th>arcsec</th><th>arcsec</th><th>mag / arcsec2</th></tr></thead>\n",
       "<thead><tr><th>float64</th><th>float64</th><th>str32</th><th>float64</th><th>float64</th><th>float64</th><th>float64</th><th>float64</th><th>float64</th><th>float64</th><th>float64</th><th>float64</th><th>float64</th><th>float64</th><th>float64</th><th>float64</th><th>float64</th><th>float64</th><th>float64</th><th>float64</th><th>float64</th><th>float64</th><th>float64</th><th>float64</th><th>float64</th><th>float64</th><th>float64</th><th>float64</th><th>float64</th><th>float64</th><th>float64</th><th>float64</th><th>float64</th><th>float64</th><th>float64</th><th>float64</th></tr></thead>\n",
       "<tr><td>191.110298532</td><td>9.85795382269</td><td>EXP</td><td>3839.0</td><td>20.5157585144</td><td>21.3045520782</td><td>19.7919445038</td><td>23.7890472412</td><td>24.8690128326</td><td>22.9819049835</td><td>22.8733730316</td><td>24.0472564697</td><td>22.1257324219</td><td>22.2684326172</td><td>23.3741836548</td><td>21.5007591248</td><td>21.3624153137</td><td>22.4030761719</td><td>20.5841331482</td><td>20.6528053284</td><td>21.7020721436</td><td>19.8988761902</td><td>18.9300746918</td><td>20.0135307312</td><td>18.1795578003</td><td>17.7377319336</td><td>18.966758728</td><td>16.9988651276</td><td>17.4305591583</td><td>18.6318874359</td><td>16.6931648254</td><td>9.00383472443</td><td>0.387841403484</td><td>0.574083387852</td><td>1.22929275036</td><td>21.3045520782</td></tr>\n",
       "<tr><td>191.059790781</td><td>-2.83581317278</td><td>EXP</td><td>574.0</td><td>22.3042316437</td><td>21.2378177643</td><td>21.5871257782</td><td>25.0610141754</td><td>24.4170742035</td><td>24.0995159149</td><td>24.2463378906</td><td>23.5336074829</td><td>23.353761673</td><td>23.6653575897</td><td>22.9592819214</td><td>22.8644599915</td><td>22.7583389282</td><td>22.1969623566</td><td>22.1282787323</td><td>22.2551383972</td><td>21.6296482086</td><td>21.5605831146</td><td>21.3447723389</td><td>20.4404678345</td><td>20.6310901642</td><td>20.6547737122</td><td>19.6790294647</td><td>19.8717288971</td><td>19.8815670013</td><td>18.9168815613</td><td>19.1330814362</td><td>9.06830120087</td><td>0.21750818193</td><td>0.0399470999837</td><td>1.53298985958</td><td>21.2378177643</td></tr>\n",
       "<tr><td>191.232040483</td><td>-4.0317101102</td><td>EXP</td><td>1665.0</td><td>22.5905227661</td><td>20.8571929932</td><td>20.3772754669</td><td>24.7964954376</td><td>23.9630661011</td><td>23.5303478241</td><td>23.8392353058</td><td>23.420425415</td><td>22.432641983</td><td>23.1750888824</td><td>22.9750423431</td><td>21.7866630554</td><td>22.1607437134</td><td>22.0472011566</td><td>20.7616329193</td><td>21.1221866608</td><td>21.0537014008</td><td>19.9563732147</td><td>18.6310348511</td><td>19.1854667664</td><td>18.3685379028</td><td>18.5570354462</td><td>18.9702606201</td><td>18.2089195251</td><td>18.5426368713</td><td>18.932138443</td><td>18.2079582214</td><td>8.38926029205</td><td>0.963504314423</td><td>0.00737554905936</td><td>1.0675868988</td><td>20.8571929932</td></tr>\n",
       "<tr><td>191.226003596</td><td>-4.52583348018</td><td>EXP</td><td>1881.0</td><td>20.365032196</td><td>21.0554885864</td><td>19.7771434784</td><td>24.2883548737</td><td>24.8388233185</td><td>23.888010025</td><td>23.4851989746</td><td>23.9168663025</td><td>22.9818458557</td><td>22.7958869934</td><td>23.2721805573</td><td>22.440196991</td><td>21.8706455231</td><td>22.4043292999</td><td>21.4932498932</td><td>21.2254981995</td><td>21.7707862854</td><td>20.8504886627</td><td>20.0078353882</td><td>20.4943466187</td><td>19.5994720459</td><td>19.0588264465</td><td>19.49741745</td><td>18.6587715149</td><td>17.9999275208</td><td>18.4472389221</td><td>17.6568813324</td><td>6.29788064957</td><td>0.260893493891</td><td>0.403354197741</td><td>1.04239475727</td><td>21.0554885864</td></tr>\n",
       "<tr><td>191.11050581</td><td>0.462994976749</td><td>EXP</td><td>1499.0</td><td>21.0184421539</td><td>21.4213924408</td><td>20.642665863</td><td>24.3101844788</td><td>24.7169361115</td><td>24.215297699</td><td>23.5540008545</td><td>23.8646793365</td><td>23.3362827301</td><td>22.9271850586</td><td>23.2640266418</td><td>22.6522350311</td><td>21.9956741333</td><td>22.338727951</td><td>21.7318134308</td><td>21.3057136536</td><td>21.7456035614</td><td>21.0989532471</td><td>20.1026077271</td><td>20.5157642365</td><td>19.8157444</td><td>19.2800102234</td><td>19.6708698273</td><td>19.0168304443</td><td>18.5371398926</td><td>18.9204654694</td><td>18.2914772034</td><td>6.95670366287</td><td>0.881433963776</td><td>0.0832177847624</td><td>1.39708721638</td><td>21.4213924408</td></tr>\n",
       "<tr><td>191.206811863</td><td>1.24448776847</td><td>EXP</td><td>2356.0</td><td>20.3829536438</td><td>20.6897258759</td><td>20.0479049683</td><td>24.3868427277</td><td>24.8181686401</td><td>23.7710876465</td><td>23.3771419525</td><td>23.9178352356</td><td>22.807559967</td><td>22.7263717651</td><td>23.2298069</td><td>22.1985092163</td><td>21.9636440277</td><td>22.4076023102</td><td>21.3947181702</td><td>21.3503456116</td><td>21.774936676</td><td>20.8224334717</td><td>19.7748565674</td><td>20.2598323822</td><td>19.3614692688</td><td>18.8324165344</td><td>19.3011741638</td><td>18.4212970734</td><td>17.5199337006</td><td>18.1305789948</td><td>17.0108299255</td><td>5.82090854645</td><td>0.198906138539</td><td>0.573101580143</td><td>1.23810589314</td><td>20.6897258759</td></tr>\n",
       "<tr><td>191.203485749</td><td>1.24646129687</td><td>EXP</td><td>2357.0</td><td>19.6301383972</td><td>19.8907012939</td><td>19.3483104706</td><td>24.2625102997</td><td>24.7657680511</td><td>23.8406467438</td><td>23.3922710419</td><td>23.826467514</td><td>22.9735355377</td><td>22.7977466583</td><td>23.20728302</td><td>22.3428840637</td><td>21.8692817688</td><td>22.2891559601</td><td>21.4553222656</td><td>21.2133846283</td><td>21.6737976074</td><td>20.8039951324</td><td>19.9690513611</td><td>20.4339580536</td><td>19.5676422119</td><td>18.954908371</td><td>19.4327659607</td><td>18.5353336334</td><td>17.494562149</td><td>18.1221847534</td><td>16.9762382507</td><td>7.82062292099</td><td>0.399626463652</td><td>0.41414642334</td><td>1.23962640762</td><td>19.8907012939</td></tr>\n",
       "<tr><td>191.24198633</td><td>2.13799408603</td><td>COMP</td><td>469.0</td><td>21.0288829803</td><td>21.8183383942</td><td>20.3787822723</td><td>23.8689842224</td><td>24.6205253601</td><td>23.0594825745</td><td>23.0641269684</td><td>23.8303432465</td><td>22.39752388</td><td>22.6286144257</td><td>23.3722438812</td><td>21.9866962433</td><td>22.0998401642</td><td>22.8570537567</td><td>21.4083843231</td><td>21.6867084503</td><td>22.4468097687</td><td>21.0066108704</td><td>20.5891666412</td><td>21.3582820892</td><td>19.994468689</td><td>18.896270752</td><td>19.6579093933</td><td>18.3436450958</td><td>17.8238449097</td><td>18.594581604</td><td>17.2534561157</td><td>5.31433439255</td><td>0.427433460951</td><td>0.549817919731</td><td>1.09298396111</td><td>21.8183383942</td></tr>\n",
       "<tr><td>191.125802539</td><td>2.17794945912</td><td>EXP</td><td>1911.0</td><td>20.3273143768</td><td>21.2711467743</td><td>19.8386974335</td><td>24.099647522</td><td>25.1775856018</td><td>23.377658844</td><td>23.2373771667</td><td>24.2801952362</td><td>22.5845947266</td><td>22.6256809235</td><td>23.5933570862</td><td>22.0065345764</td><td>21.749874115</td><td>22.7131881714</td><td>21.1711006165</td><td>21.1593456268</td><td>22.1120738983</td><td>20.5452308655</td><td>20.1542606354</td><td>21.1109313965</td><td>19.5215911865</td><td>19.5864372253</td><td>20.5473098755</td><td>18.9578666687</td><td>19.0370502472</td><td>19.9816589355</td><td>18.3858528137</td><td>5.20761585236</td><td>0.0196955110878</td><td>0.452706485987</td><td>1.08300864697</td><td>21.2711467743</td></tr>\n",
       "<tr><td>...</td><td>...</td><td>...</td><td>...</td><td>...</td><td>...</td><td>...</td><td>...</td><td>...</td><td>...</td><td>...</td><td>...</td><td>...</td><td>...</td><td>...</td><td>...</td><td>...</td><td>...</td><td>...</td><td>...</td><td>...</td><td>...</td><td>...</td><td>...</td><td>...</td><td>...</td><td>...</td><td>...</td><td>...</td><td>...</td><td>...</td><td>...</td><td>...</td><td>...</td><td>...</td><td>...</td></tr>\n",
       "<tr><td>191.961384211</td><td>4.31969502345</td><td>EXP</td><td>5191.0</td><td>19.0750465393</td><td>19.1211414337</td><td>20.4175186157</td><td>24.2739887238</td><td>24.1296768188</td><td>24.8895874023</td><td>23.4341716766</td><td>23.2136211395</td><td>23.7140197754</td><td>22.7763843536</td><td>22.5979537964</td><td>23.2352905273</td><td>21.806016922</td><td>21.7077255249</td><td>22.2451763153</td><td>21.1911525726</td><td>21.1255893707</td><td>21.6269264221</td><td>20.4001426697</td><td>20.2803878784</td><td>20.9711360931</td><td>19.816860199</td><td>19.7187824249</td><td>20.4967269897</td><td>19.3100719452</td><td>19.2079925537</td><td>20.1728935242</td><td>6.9516248703</td><td>0.132152959704</td><td>0.295291572809</td><td>1.52708268166</td><td>19.1211414337</td></tr>\n",
       "<tr><td>191.967497008</td><td>4.33986491194</td><td>EXP</td><td>5788.0</td><td>19.4791316986</td><td>19.4805698395</td><td>20.0536823273</td><td>24.8273773193</td><td>25.0778617859</td><td>27.0603408813</td><td>24.0021305084</td><td>24.1455287933</td><td>24.7218036652</td><td>23.3497543335</td><td>23.4170608521</td><td>24.0039291382</td><td>22.2825698853</td><td>22.4087429047</td><td>22.6532344818</td><td>21.5524177551</td><td>21.6650753021</td><td>21.93318367</td><td>20.5812091827</td><td>20.6103534698</td><td>20.8620452881</td><td>20.2006797791</td><td>20.1181221008</td><td>20.5058841705</td><td>20.1986408234</td><td>19.8227500916</td><td>20.58203125</td><td>6.42209768295</td><td>0.292569667101</td><td>0.128090426326</td><td>1.60034227371</td><td>19.4805698395</td></tr>\n",
       "<tr><td>191.866308934</td><td>12.1968900298</td><td>EXP</td><td>1162.0</td><td>19.5131893158</td><td>20.1407699585</td><td>19.1536655426</td><td>24.6108627319</td><td>25.5353813171</td><td>24.4499778748</td><td>23.8125858307</td><td>24.5049743652</td><td>23.5826148987</td><td>23.1673641205</td><td>23.929063797</td><td>22.9754066467</td><td>22.3220214844</td><td>23.0597763062</td><td>22.2816429138</td><td>21.7566814423</td><td>22.4483470917</td><td>21.6425933838</td><td>20.7895393372</td><td>21.3882350922</td><td>20.506893158</td><td>20.2193756104</td><td>20.8745288849</td><td>19.8426494598</td><td>19.8770904541</td><td>20.5189590454</td><td>19.4677448273</td><td>7.78611850739</td><td>0.283631652594</td><td>0.22231054306</td><td>1.39257884026</td><td>20.1407699585</td></tr>\n",
       "<tr><td>192.047471035</td><td>-5.94626222759</td><td>EXP</td><td>3285.0</td><td>21.3696460724</td><td>21.5945320129</td><td>19.7782344818</td><td>25.0502090454</td><td>25.0047645569</td><td>23.4832038879</td><td>24.1292762756</td><td>24.1672039032</td><td>22.6112384796</td><td>23.386100769</td><td>23.5635929108</td><td>22.0593910217</td><td>22.486946106</td><td>22.8032436371</td><td>21.2005348206</td><td>22.0085659027</td><td>22.2673244476</td><td>20.5954647064</td><td>20.9856300354</td><td>21.1847724915</td><td>19.4250183105</td><td>19.7744255066</td><td>20.1014633179</td><td>18.5710105896</td><td>19.1920509338</td><td>19.4999752045</td><td>17.8774738312</td><td>9.52320098877</td><td>0.308458477259</td><td>0.0196887757629</td><td>1.13282203674</td><td>21.5945320129</td></tr>\n",
       "<tr><td>191.877762327</td><td>-7.29398883098</td><td>EXP</td><td>1722.0</td><td>19.9325504303</td><td>20.6425762177</td><td>19.6278553009</td><td>24.3889751434</td><td>24.9561920166</td><td>23.811088562</td><td>23.4630374908</td><td>24.0372695923</td><td>23.1504917145</td><td>22.8580913544</td><td>23.4185562134</td><td>22.6413841248</td><td>22.0715484619</td><td>22.6312122345</td><td>21.8429641724</td><td>21.5132884979</td><td>22.1119174957</td><td>21.1994476318</td><td>20.6426239014</td><td>21.3298530579</td><td>20.2940330505</td><td>20.3135204315</td><td>20.8838882446</td><td>19.9841194153</td><td>20.1008739471</td><td>20.6655330658</td><td>19.8395576477</td><td>5.22495746613</td><td>0.0858003646135</td><td>0.158570423722</td><td>1.26473546028</td><td>20.6425762177</td></tr>\n",
       "<tr><td>191.890318536</td><td>-7.88448822098</td><td>EXP</td><td>6332.0</td><td>19.574634552</td><td>19.7924747467</td><td>19.4398365021</td><td>23.8042201996</td><td>24.3369636536</td><td>23.6441307068</td><td>22.9748840332</td><td>23.5146064758</td><td>22.7811660767</td><td>22.4441680908</td><td>22.9495735168</td><td>22.2121505737</td><td>21.7577285767</td><td>22.1824092865</td><td>21.3437747955</td><td>21.2563514709</td><td>21.6828842163</td><td>20.7929668427</td><td>20.2898826599</td><td>20.7683944702</td><td>19.8402290344</td><td>19.7156677246</td><td>20.1989879608</td><td>19.213104248</td><td>19.1221466064</td><td>19.6158676147</td><td>18.6190280914</td><td>8.89452648163</td><td>0.284628272057</td><td>0.528116464615</td><td>1.22468745708</td><td>19.7924747467</td></tr>\n",
       "<tr><td>191.969971731</td><td>6.89353640733</td><td>EXP</td><td>229.0</td><td>20.3771686554</td><td>20.9417514801</td><td>19.2785301208</td><td>25.9199714661</td><td>26.7898426056</td><td>23.6376457214</td><td>24.6379432678</td><td>25.0265712738</td><td>23.019701004</td><td>23.7858810425</td><td>24.1235427856</td><td>22.4153614044</td><td>22.7444782257</td><td>23.0833206177</td><td>21.661113739</td><td>22.0191402435</td><td>22.4465847015</td><td>21.0404205322</td><td>20.8347873688</td><td>21.2068328857</td><td>19.7928390503</td><td>19.9077472687</td><td>20.3106040955</td><td>18.9352970123</td><td>18.7112922668</td><td>19.1751651764</td><td>17.7590122223</td><td>16.069437027</td><td>0.369545221329</td><td>0.271793633699</td><td>1.40828764439</td><td>20.9417514801</td></tr>\n",
       "<tr><td>191.987871627</td><td>7.06215977447</td><td>EXP</td><td>3070.0</td><td>21.6473770142</td><td>21.6739463806</td><td>22.6651725769</td><td>24.9233951569</td><td>25.0347690582</td><td>24.4608268738</td><td>23.9186515808</td><td>24.1273117065</td><td>23.4577713013</td><td>23.1930046082</td><td>23.477350235</td><td>22.7737865448</td><td>22.2517795563</td><td>22.5051956177</td><td>21.8144321442</td><td>21.5706310272</td><td>21.8629283905</td><td>21.1110649109</td><td>19.8680763245</td><td>20.3506946564</td><td>19.3687515259</td><td>18.7408981323</td><td>19.2895889282</td><td>18.2651100159</td><td>18.2666110992</td><td>18.8112335205</td><td>17.8317642212</td><td>5.53374147415</td><td>0.461528360844</td><td>0.45754930377</td><td>1.42527067661</td><td>21.6739463806</td></tr>\n",
       "<tr><td>192.08080628</td><td>8.49096743953</td><td>EXP</td><td>1381.0</td><td>20.5761756897</td><td>21.5160865784</td><td>20.1960906982</td><td>23.2556762695</td><td>24.0456352234</td><td>22.7131099701</td><td>22.3745250702</td><td>23.1567783356</td><td>21.8217735291</td><td>21.7073612213</td><td>22.5874176025</td><td>21.2174892426</td><td>20.8360805511</td><td>21.7647018433</td><td>20.3399181366</td><td>20.2494850159</td><td>21.1464176178</td><td>19.7215309143</td><td>19.0715637207</td><td>19.958568573</td><td>18.4751853943</td><td>18.2757301331</td><td>19.1934566498</td><td>17.700668335</td><td>17.5408191681</td><td>18.4670677185</td><td>16.96043396</td><td>6.68913555145</td><td>0.642492592335</td><td>0.428006708622</td><td>1.23297393322</td><td>21.5160865784</td></tr>\n",
       "<tr><td>191.858477923</td><td>12.9670098946</td><td>EXP</td><td>1308.0</td><td>21.4425373077</td><td>20.0729160309</td><td>20.1350345612</td><td>24.4957122803</td><td>23.3321380615</td><td>23.8546123505</td><td>24.0459156036</td><td>22.7935295105</td><td>22.9207077026</td><td>23.5478134155</td><td>22.409992218</td><td>22.3352661133</td><td>22.3666152954</td><td>21.8247928619</td><td>21.5412120819</td><td>21.8757171631</td><td>21.3796653748</td><td>20.9534053802</td><td>20.7057628632</td><td>20.2889328003</td><td>19.7790699005</td><td>19.782453537</td><td>19.5554180145</td><td>18.7695140839</td><td>17.9090499878</td><td>17.8569831848</td><td>17.2222270966</td><td>5.79510307312</td><td>0.963669121265</td><td>0.0405146032572</td><td>1.09550404549</td><td>20.0729160309</td></tr>\n",
       "</table>"
      ],
      "text/plain": [
       "<Table length=75>\n",
       "      ra           dec        type ...   psfsize_r       csb_g    \n",
       "     deg           deg             ...     arcsec    mag / arcsec2\n",
       "   float64       float64     str32 ...    float64       float64   \n",
       "------------- -------------- ----- ... ------------- -------------\n",
       "191.110298532  9.85795382269  EXP  ... 1.22929275036 21.3045520782\n",
       "191.059790781 -2.83581317278  EXP  ... 1.53298985958 21.2378177643\n",
       "191.232040483  -4.0317101102  EXP  ...  1.0675868988 20.8571929932\n",
       "191.226003596 -4.52583348018  EXP  ... 1.04239475727 21.0554885864\n",
       " 191.11050581 0.462994976749  EXP  ... 1.39708721638 21.4213924408\n",
       "191.206811863  1.24448776847  EXP  ... 1.23810589314 20.6897258759\n",
       "191.203485749  1.24646129687  EXP  ... 1.23962640762 19.8907012939\n",
       " 191.24198633  2.13799408603  COMP ... 1.09298396111 21.8183383942\n",
       "191.125802539  2.17794945912  EXP  ... 1.08300864697 21.2711467743\n",
       "          ...            ...   ... ...           ...           ...\n",
       "191.961384211  4.31969502345  EXP  ... 1.52708268166 19.1211414337\n",
       "191.967497008  4.33986491194  EXP  ... 1.60034227371 19.4805698395\n",
       "191.866308934  12.1968900298  EXP  ... 1.39257884026 20.1407699585\n",
       "192.047471035 -5.94626222759  EXP  ... 1.13282203674 21.5945320129\n",
       "191.877762327 -7.29398883098  EXP  ... 1.26473546028 20.6425762177\n",
       "191.890318536 -7.88448822098  EXP  ... 1.22468745708 19.7924747467\n",
       "191.969971731  6.89353640733  EXP  ... 1.40828764439 20.9417514801\n",
       "191.987871627  7.06215977447  EXP  ... 1.42527067661 21.6739463806\n",
       " 192.08080628  8.49096743953  EXP  ... 1.23297393322 21.5160865784\n",
       "191.858477923  12.9670098946  EXP  ... 1.09550404549 20.0729160309"
      ]
     },
     "execution_count": 158,
     "metadata": {},
     "output_type": "execute_result"
    }
   ],
   "source": [
    "test"
   ]
  },
  {
   "cell_type": "code",
   "execution_count": 139,
   "metadata": {},
   "outputs": [],
   "source": [
    "cut = starmask(test['ra'], test['dec'])\n",
    "cut &= nthneighbor(test['ra'], test['dec'])"
   ]
  },
  {
   "cell_type": "code",
   "execution_count": 160,
   "metadata": {},
   "outputs": [
    {
     "data": {
      "text/plain": [
       "71"
      ]
     },
     "execution_count": 160,
     "metadata": {},
     "output_type": "execute_result"
    }
   ],
   "source": []
  },
  {
   "cell_type": "code",
   "execution_count": 140,
   "metadata": {},
   "outputs": [],
   "source": [
    "test2 = test[cut].copy() "
   ]
  },
  {
   "cell_type": "code",
   "execution_count": 145,
   "metadata": {},
   "outputs": [
    {
     "data": {
      "text/html": [
       "&lt;Table length=60&gt;\n",
       "<table id=\"table139899846022424\" class=\"table-striped table-bordered table-condensed\">\n",
       "<thead><tr><th>ra</th><th>dec</th><th>type</th><th>objid</th><th>flux_r</th><th>flux_g</th><th>flux_z</th><th>apflux_0.5_r</th><th>apflux_0.5_g</th><th>apflux_0.5_z</th><th>apflux_0.75_r</th><th>apflux_0.75_g</th><th>apflux_0.75_z</th><th>apflux_1.0_r</th><th>apflux_1.0_g</th><th>apflux_1.0_z</th><th>apflux_1.5_r</th><th>apflux_1.5_g</th><th>apflux_1.5_z</th><th>apflux_2.0_r</th><th>apflux_2.0_g</th><th>apflux_2.0_z</th><th>apflux_3.5_r</th><th>apflux_3.5_g</th><th>apflux_3.5_z</th><th>apflux_5.0_r</th><th>apflux_5.0_g</th><th>apflux_5.0_z</th><th>apflux_7.0_r</th><th>apflux_7.0_g</th><th>apflux_7.0_z</th><th>shapeexp_r</th><th>shapeexp_e1</th><th>shapeexp_e2</th><th>psfsize_r</th><th>csb_g</th></tr></thead>\n",
       "<thead><tr><th>deg</th><th>deg</th><th></th><th></th><th>magnitude</th><th>magnitude</th><th>magnitude</th><th>magnitude</th><th>magnitude</th><th>magnitude</th><th>magnitude</th><th>magnitude</th><th>magnitude</th><th>magnitude</th><th>magnitude</th><th>magnitude</th><th>magnitude</th><th>magnitude</th><th>magnitude</th><th>magnitude</th><th>magnitude</th><th>magnitude</th><th>magnitude</th><th>magnitude</th><th>magnitude</th><th>magnitude</th><th>magnitude</th><th>magnitude</th><th>magnitude</th><th>magnitude</th><th>magnitude</th><th>arcsec</th><th>arcsec</th><th>arcsec</th><th>arcsec</th><th>mag / arcsec2</th></tr></thead>\n",
       "<thead><tr><th>float64</th><th>float64</th><th>str32</th><th>float64</th><th>float64</th><th>float64</th><th>float64</th><th>float64</th><th>float64</th><th>float64</th><th>float64</th><th>float64</th><th>float64</th><th>float64</th><th>float64</th><th>float64</th><th>float64</th><th>float64</th><th>float64</th><th>float64</th><th>float64</th><th>float64</th><th>float64</th><th>float64</th><th>float64</th><th>float64</th><th>float64</th><th>float64</th><th>float64</th><th>float64</th><th>float64</th><th>float64</th><th>float64</th><th>float64</th><th>float64</th><th>float64</th></tr></thead>\n",
       "<tr><td>191.110298532</td><td>9.85795382269</td><td>EXP</td><td>3839.0</td><td>20.5157585144</td><td>21.3045520782</td><td>19.7919445038</td><td>23.7890472412</td><td>24.8690128326</td><td>22.9819049835</td><td>22.8733730316</td><td>24.0472564697</td><td>22.1257324219</td><td>22.2684326172</td><td>23.3741836548</td><td>21.5007591248</td><td>21.3624153137</td><td>22.4030761719</td><td>20.5841331482</td><td>20.6528053284</td><td>21.7020721436</td><td>19.8988761902</td><td>18.9300746918</td><td>20.0135307312</td><td>18.1795578003</td><td>17.7377319336</td><td>18.966758728</td><td>16.9988651276</td><td>17.4305591583</td><td>18.6318874359</td><td>16.6931648254</td><td>9.00383472443</td><td>0.387841403484</td><td>0.574083387852</td><td>1.22929275036</td><td>21.3045520782</td></tr>\n",
       "<tr><td>191.232040483</td><td>-4.0317101102</td><td>EXP</td><td>1665.0</td><td>22.5905227661</td><td>20.8571929932</td><td>20.3772754669</td><td>24.7964954376</td><td>23.9630661011</td><td>23.5303478241</td><td>23.8392353058</td><td>23.420425415</td><td>22.432641983</td><td>23.1750888824</td><td>22.9750423431</td><td>21.7866630554</td><td>22.1607437134</td><td>22.0472011566</td><td>20.7616329193</td><td>21.1221866608</td><td>21.0537014008</td><td>19.9563732147</td><td>18.6310348511</td><td>19.1854667664</td><td>18.3685379028</td><td>18.5570354462</td><td>18.9702606201</td><td>18.2089195251</td><td>18.5426368713</td><td>18.932138443</td><td>18.2079582214</td><td>8.38926029205</td><td>0.963504314423</td><td>0.00737554905936</td><td>1.0675868988</td><td>20.8571929932</td></tr>\n",
       "<tr><td>191.226003596</td><td>-4.52583348018</td><td>EXP</td><td>1881.0</td><td>20.365032196</td><td>21.0554885864</td><td>19.7771434784</td><td>24.2883548737</td><td>24.8388233185</td><td>23.888010025</td><td>23.4851989746</td><td>23.9168663025</td><td>22.9818458557</td><td>22.7958869934</td><td>23.2721805573</td><td>22.440196991</td><td>21.8706455231</td><td>22.4043292999</td><td>21.4932498932</td><td>21.2254981995</td><td>21.7707862854</td><td>20.8504886627</td><td>20.0078353882</td><td>20.4943466187</td><td>19.5994720459</td><td>19.0588264465</td><td>19.49741745</td><td>18.6587715149</td><td>17.9999275208</td><td>18.4472389221</td><td>17.6568813324</td><td>6.29788064957</td><td>0.260893493891</td><td>0.403354197741</td><td>1.04239475727</td><td>21.0554885864</td></tr>\n",
       "<tr><td>191.11050581</td><td>0.462994976749</td><td>EXP</td><td>1499.0</td><td>21.0184421539</td><td>21.4213924408</td><td>20.642665863</td><td>24.3101844788</td><td>24.7169361115</td><td>24.215297699</td><td>23.5540008545</td><td>23.8646793365</td><td>23.3362827301</td><td>22.9271850586</td><td>23.2640266418</td><td>22.6522350311</td><td>21.9956741333</td><td>22.338727951</td><td>21.7318134308</td><td>21.3057136536</td><td>21.7456035614</td><td>21.0989532471</td><td>20.1026077271</td><td>20.5157642365</td><td>19.8157444</td><td>19.2800102234</td><td>19.6708698273</td><td>19.0168304443</td><td>18.5371398926</td><td>18.9204654694</td><td>18.2914772034</td><td>6.95670366287</td><td>0.881433963776</td><td>0.0832177847624</td><td>1.39708721638</td><td>21.4213924408</td></tr>\n",
       "<tr><td>191.206811863</td><td>1.24448776847</td><td>EXP</td><td>2356.0</td><td>20.3829536438</td><td>20.6897258759</td><td>20.0479049683</td><td>24.3868427277</td><td>24.8181686401</td><td>23.7710876465</td><td>23.3771419525</td><td>23.9178352356</td><td>22.807559967</td><td>22.7263717651</td><td>23.2298069</td><td>22.1985092163</td><td>21.9636440277</td><td>22.4076023102</td><td>21.3947181702</td><td>21.3503456116</td><td>21.774936676</td><td>20.8224334717</td><td>19.7748565674</td><td>20.2598323822</td><td>19.3614692688</td><td>18.8324165344</td><td>19.3011741638</td><td>18.4212970734</td><td>17.5199337006</td><td>18.1305789948</td><td>17.0108299255</td><td>5.82090854645</td><td>0.198906138539</td><td>0.573101580143</td><td>1.23810589314</td><td>20.6897258759</td></tr>\n",
       "<tr><td>191.203485749</td><td>1.24646129687</td><td>EXP</td><td>2357.0</td><td>19.6301383972</td><td>19.8907012939</td><td>19.3483104706</td><td>24.2625102997</td><td>24.7657680511</td><td>23.8406467438</td><td>23.3922710419</td><td>23.826467514</td><td>22.9735355377</td><td>22.7977466583</td><td>23.20728302</td><td>22.3428840637</td><td>21.8692817688</td><td>22.2891559601</td><td>21.4553222656</td><td>21.2133846283</td><td>21.6737976074</td><td>20.8039951324</td><td>19.9690513611</td><td>20.4339580536</td><td>19.5676422119</td><td>18.954908371</td><td>19.4327659607</td><td>18.5353336334</td><td>17.494562149</td><td>18.1221847534</td><td>16.9762382507</td><td>7.82062292099</td><td>0.399626463652</td><td>0.41414642334</td><td>1.23962640762</td><td>19.8907012939</td></tr>\n",
       "<tr><td>191.24198633</td><td>2.13799408603</td><td>COMP</td><td>469.0</td><td>21.0288829803</td><td>21.8183383942</td><td>20.3787822723</td><td>23.8689842224</td><td>24.6205253601</td><td>23.0594825745</td><td>23.0641269684</td><td>23.8303432465</td><td>22.39752388</td><td>22.6286144257</td><td>23.3722438812</td><td>21.9866962433</td><td>22.0998401642</td><td>22.8570537567</td><td>21.4083843231</td><td>21.6867084503</td><td>22.4468097687</td><td>21.0066108704</td><td>20.5891666412</td><td>21.3582820892</td><td>19.994468689</td><td>18.896270752</td><td>19.6579093933</td><td>18.3436450958</td><td>17.8238449097</td><td>18.594581604</td><td>17.2534561157</td><td>5.31433439255</td><td>0.427433460951</td><td>0.549817919731</td><td>1.09298396111</td><td>21.8183383942</td></tr>\n",
       "<tr><td>191.125802539</td><td>2.17794945912</td><td>EXP</td><td>1911.0</td><td>20.3273143768</td><td>21.2711467743</td><td>19.8386974335</td><td>24.099647522</td><td>25.1775856018</td><td>23.377658844</td><td>23.2373771667</td><td>24.2801952362</td><td>22.5845947266</td><td>22.6256809235</td><td>23.5933570862</td><td>22.0065345764</td><td>21.749874115</td><td>22.7131881714</td><td>21.1711006165</td><td>21.1593456268</td><td>22.1120738983</td><td>20.5452308655</td><td>20.1542606354</td><td>21.1109313965</td><td>19.5215911865</td><td>19.5864372253</td><td>20.5473098755</td><td>18.9578666687</td><td>19.0370502472</td><td>19.9816589355</td><td>18.3858528137</td><td>5.20761585236</td><td>0.0196955110878</td><td>0.452706485987</td><td>1.08300864697</td><td>21.2711467743</td></tr>\n",
       "<tr><td>191.04325796</td><td>3.47313739932</td><td>EXP</td><td>1707.0</td><td>20.2221946716</td><td>20.7825222015</td><td>19.4682254791</td><td>26.2134037018</td><td>25.7644100189</td><td>23.8189487457</td><td>24.4400424957</td><td>24.8559703827</td><td>22.9587249756</td><td>23.4822006226</td><td>24.1659584045</td><td>22.4190864563</td><td>22.4439239502</td><td>23.2664871216</td><td>21.3727970123</td><td>21.8150272369</td><td>22.4604072571</td><td>20.6456508636</td><td>20.5820865631</td><td>21.2466526031</td><td>19.373468399</td><td>19.6949424744</td><td>20.426656723</td><td>18.5542984009</td><td>18.4683303833</td><td>19.2422428131</td><td>17.5618286133</td><td>19.0968780518</td><td>0.451511263847</td><td>0.162486255169</td><td>1.56886959076</td><td>20.7825222015</td></tr>\n",
       "<tr><td>...</td><td>...</td><td>...</td><td>...</td><td>...</td><td>...</td><td>...</td><td>...</td><td>...</td><td>...</td><td>...</td><td>...</td><td>...</td><td>...</td><td>...</td><td>...</td><td>...</td><td>...</td><td>...</td><td>...</td><td>...</td><td>...</td><td>...</td><td>...</td><td>...</td><td>...</td><td>...</td><td>...</td><td>...</td><td>...</td><td>...</td><td>...</td><td>...</td><td>...</td><td>...</td><td>...</td></tr>\n",
       "<tr><td>192.000787966</td><td>2.47600788732</td><td>EXP</td><td>3033.0</td><td>19.8001651764</td><td>20.6798171997</td><td>19.4276885986</td><td>24.951467514</td><td>25.5149707794</td><td>24.6540336609</td><td>24.0686683655</td><td>24.6873950958</td><td>23.6648693085</td><td>23.3994464874</td><td>23.9204540253</td><td>22.8682785034</td><td>22.2565956116</td><td>22.892906189</td><td>21.7338600159</td><td>21.5246200562</td><td>22.1756572723</td><td>20.9853858948</td><td>20.459104538</td><td>21.1754360199</td><td>20.0484409332</td><td>19.9986610413</td><td>20.7351398468</td><td>19.6027488708</td><td>19.4715538025</td><td>20.231508255</td><td>19.0762042999</td><td>6.5269780159</td><td>0.381618589163</td><td>0.0997066795826</td><td>1.09055829048</td><td>20.6798171997</td></tr>\n",
       "<tr><td>191.961384211</td><td>4.31969502345</td><td>EXP</td><td>5191.0</td><td>19.0750465393</td><td>19.1211414337</td><td>20.4175186157</td><td>24.2739887238</td><td>24.1296768188</td><td>24.8895874023</td><td>23.4341716766</td><td>23.2136211395</td><td>23.7140197754</td><td>22.7763843536</td><td>22.5979537964</td><td>23.2352905273</td><td>21.806016922</td><td>21.7077255249</td><td>22.2451763153</td><td>21.1911525726</td><td>21.1255893707</td><td>21.6269264221</td><td>20.4001426697</td><td>20.2803878784</td><td>20.9711360931</td><td>19.816860199</td><td>19.7187824249</td><td>20.4967269897</td><td>19.3100719452</td><td>19.2079925537</td><td>20.1728935242</td><td>6.9516248703</td><td>0.132152959704</td><td>0.295291572809</td><td>1.52708268166</td><td>19.1211414337</td></tr>\n",
       "<tr><td>191.967497008</td><td>4.33986491194</td><td>EXP</td><td>5788.0</td><td>19.4791316986</td><td>19.4805698395</td><td>20.0536823273</td><td>24.8273773193</td><td>25.0778617859</td><td>27.0603408813</td><td>24.0021305084</td><td>24.1455287933</td><td>24.7218036652</td><td>23.3497543335</td><td>23.4170608521</td><td>24.0039291382</td><td>22.2825698853</td><td>22.4087429047</td><td>22.6532344818</td><td>21.5524177551</td><td>21.6650753021</td><td>21.93318367</td><td>20.5812091827</td><td>20.6103534698</td><td>20.8620452881</td><td>20.2006797791</td><td>20.1181221008</td><td>20.5058841705</td><td>20.1986408234</td><td>19.8227500916</td><td>20.58203125</td><td>6.42209768295</td><td>0.292569667101</td><td>0.128090426326</td><td>1.60034227371</td><td>19.4805698395</td></tr>\n",
       "<tr><td>191.866308934</td><td>12.1968900298</td><td>EXP</td><td>1162.0</td><td>19.5131893158</td><td>20.1407699585</td><td>19.1536655426</td><td>24.6108627319</td><td>25.5353813171</td><td>24.4499778748</td><td>23.8125858307</td><td>24.5049743652</td><td>23.5826148987</td><td>23.1673641205</td><td>23.929063797</td><td>22.9754066467</td><td>22.3220214844</td><td>23.0597763062</td><td>22.2816429138</td><td>21.7566814423</td><td>22.4483470917</td><td>21.6425933838</td><td>20.7895393372</td><td>21.3882350922</td><td>20.506893158</td><td>20.2193756104</td><td>20.8745288849</td><td>19.8426494598</td><td>19.8770904541</td><td>20.5189590454</td><td>19.4677448273</td><td>7.78611850739</td><td>0.283631652594</td><td>0.22231054306</td><td>1.39257884026</td><td>20.1407699585</td></tr>\n",
       "<tr><td>191.877762327</td><td>-7.29398883098</td><td>EXP</td><td>1722.0</td><td>19.9325504303</td><td>20.6425762177</td><td>19.6278553009</td><td>24.3889751434</td><td>24.9561920166</td><td>23.811088562</td><td>23.4630374908</td><td>24.0372695923</td><td>23.1504917145</td><td>22.8580913544</td><td>23.4185562134</td><td>22.6413841248</td><td>22.0715484619</td><td>22.6312122345</td><td>21.8429641724</td><td>21.5132884979</td><td>22.1119174957</td><td>21.1994476318</td><td>20.6426239014</td><td>21.3298530579</td><td>20.2940330505</td><td>20.3135204315</td><td>20.8838882446</td><td>19.9841194153</td><td>20.1008739471</td><td>20.6655330658</td><td>19.8395576477</td><td>5.22495746613</td><td>0.0858003646135</td><td>0.158570423722</td><td>1.26473546028</td><td>20.6425762177</td></tr>\n",
       "<tr><td>191.890318536</td><td>-7.88448822098</td><td>EXP</td><td>6332.0</td><td>19.574634552</td><td>19.7924747467</td><td>19.4398365021</td><td>23.8042201996</td><td>24.3369636536</td><td>23.6441307068</td><td>22.9748840332</td><td>23.5146064758</td><td>22.7811660767</td><td>22.4441680908</td><td>22.9495735168</td><td>22.2121505737</td><td>21.7577285767</td><td>22.1824092865</td><td>21.3437747955</td><td>21.2563514709</td><td>21.6828842163</td><td>20.7929668427</td><td>20.2898826599</td><td>20.7683944702</td><td>19.8402290344</td><td>19.7156677246</td><td>20.1989879608</td><td>19.213104248</td><td>19.1221466064</td><td>19.6158676147</td><td>18.6190280914</td><td>8.89452648163</td><td>0.284628272057</td><td>0.528116464615</td><td>1.22468745708</td><td>19.7924747467</td></tr>\n",
       "<tr><td>191.969971731</td><td>6.89353640733</td><td>EXP</td><td>229.0</td><td>20.3771686554</td><td>20.9417514801</td><td>19.2785301208</td><td>25.9199714661</td><td>26.7898426056</td><td>23.6376457214</td><td>24.6379432678</td><td>25.0265712738</td><td>23.019701004</td><td>23.7858810425</td><td>24.1235427856</td><td>22.4153614044</td><td>22.7444782257</td><td>23.0833206177</td><td>21.661113739</td><td>22.0191402435</td><td>22.4465847015</td><td>21.0404205322</td><td>20.8347873688</td><td>21.2068328857</td><td>19.7928390503</td><td>19.9077472687</td><td>20.3106040955</td><td>18.9352970123</td><td>18.7112922668</td><td>19.1751651764</td><td>17.7590122223</td><td>16.069437027</td><td>0.369545221329</td><td>0.271793633699</td><td>1.40828764439</td><td>20.9417514801</td></tr>\n",
       "<tr><td>191.987871627</td><td>7.06215977447</td><td>EXP</td><td>3070.0</td><td>21.6473770142</td><td>21.6739463806</td><td>22.6651725769</td><td>24.9233951569</td><td>25.0347690582</td><td>24.4608268738</td><td>23.9186515808</td><td>24.1273117065</td><td>23.4577713013</td><td>23.1930046082</td><td>23.477350235</td><td>22.7737865448</td><td>22.2517795563</td><td>22.5051956177</td><td>21.8144321442</td><td>21.5706310272</td><td>21.8629283905</td><td>21.1110649109</td><td>19.8680763245</td><td>20.3506946564</td><td>19.3687515259</td><td>18.7408981323</td><td>19.2895889282</td><td>18.2651100159</td><td>18.2666110992</td><td>18.8112335205</td><td>17.8317642212</td><td>5.53374147415</td><td>0.461528360844</td><td>0.45754930377</td><td>1.42527067661</td><td>21.6739463806</td></tr>\n",
       "<tr><td>192.08080628</td><td>8.49096743953</td><td>EXP</td><td>1381.0</td><td>20.5761756897</td><td>21.5160865784</td><td>20.1960906982</td><td>23.2556762695</td><td>24.0456352234</td><td>22.7131099701</td><td>22.3745250702</td><td>23.1567783356</td><td>21.8217735291</td><td>21.7073612213</td><td>22.5874176025</td><td>21.2174892426</td><td>20.8360805511</td><td>21.7647018433</td><td>20.3399181366</td><td>20.2494850159</td><td>21.1464176178</td><td>19.7215309143</td><td>19.0715637207</td><td>19.958568573</td><td>18.4751853943</td><td>18.2757301331</td><td>19.1934566498</td><td>17.700668335</td><td>17.5408191681</td><td>18.4670677185</td><td>16.96043396</td><td>6.68913555145</td><td>0.642492592335</td><td>0.428006708622</td><td>1.23297393322</td><td>21.5160865784</td></tr>\n",
       "<tr><td>191.858477923</td><td>12.9670098946</td><td>EXP</td><td>1308.0</td><td>21.4425373077</td><td>20.0729160309</td><td>20.1350345612</td><td>24.4957122803</td><td>23.3321380615</td><td>23.8546123505</td><td>24.0459156036</td><td>22.7935295105</td><td>22.9207077026</td><td>23.5478134155</td><td>22.409992218</td><td>22.3352661133</td><td>22.3666152954</td><td>21.8247928619</td><td>21.5412120819</td><td>21.8757171631</td><td>21.3796653748</td><td>20.9534053802</td><td>20.7057628632</td><td>20.2889328003</td><td>19.7790699005</td><td>19.782453537</td><td>19.5554180145</td><td>18.7695140839</td><td>17.9090499878</td><td>17.8569831848</td><td>17.2222270966</td><td>5.79510307312</td><td>0.963669121265</td><td>0.0405146032572</td><td>1.09550404549</td><td>20.0729160309</td></tr>\n",
       "</table>"
      ],
      "text/plain": [
       "<Table length=60>\n",
       "      ra           dec        type ...   psfsize_r       csb_g    \n",
       "     deg           deg             ...     arcsec    mag / arcsec2\n",
       "   float64       float64     str32 ...    float64       float64   \n",
       "------------- -------------- ----- ... ------------- -------------\n",
       "191.110298532  9.85795382269  EXP  ... 1.22929275036 21.3045520782\n",
       "191.232040483  -4.0317101102  EXP  ...  1.0675868988 20.8571929932\n",
       "191.226003596 -4.52583348018  EXP  ... 1.04239475727 21.0554885864\n",
       " 191.11050581 0.462994976749  EXP  ... 1.39708721638 21.4213924408\n",
       "191.206811863  1.24448776847  EXP  ... 1.23810589314 20.6897258759\n",
       "191.203485749  1.24646129687  EXP  ... 1.23962640762 19.8907012939\n",
       " 191.24198633  2.13799408603  COMP ... 1.09298396111 21.8183383942\n",
       "191.125802539  2.17794945912  EXP  ... 1.08300864697 21.2711467743\n",
       " 191.04325796  3.47313739932  EXP  ... 1.56886959076 20.7825222015\n",
       "          ...            ...   ... ...           ...           ...\n",
       "192.000787966  2.47600788732  EXP  ... 1.09055829048 20.6798171997\n",
       "191.961384211  4.31969502345  EXP  ... 1.52708268166 19.1211414337\n",
       "191.967497008  4.33986491194  EXP  ... 1.60034227371 19.4805698395\n",
       "191.866308934  12.1968900298  EXP  ... 1.39257884026 20.1407699585\n",
       "191.877762327 -7.29398883098  EXP  ... 1.26473546028 20.6425762177\n",
       "191.890318536 -7.88448822098  EXP  ... 1.22468745708 19.7924747467\n",
       "191.969971731  6.89353640733  EXP  ... 1.40828764439 20.9417514801\n",
       "191.987871627  7.06215977447  EXP  ... 1.42527067661 21.6739463806\n",
       " 192.08080628  8.49096743953  EXP  ... 1.23297393322 21.5160865784\n",
       "191.858477923  12.9670098946  EXP  ... 1.09550404549 20.0729160309"
      ]
     },
     "execution_count": 145,
     "metadata": {},
     "output_type": "execute_result"
    }
   ],
   "source": [
    "test2"
   ]
  },
  {
   "cell_type": "code",
   "execution_count": 148,
   "metadata": {},
   "outputs": [],
   "source": [
    "output = test2.copy()\n",
    "\n",
    "output.rename_column('objid', 'id')\n",
    "output.rename_column('csb_g', 'csb')\n",
    "output['id', 'ra', 'dec', 'shapeexp_r', 'csb' ].write('tractor-func-test.fits', overwrite=True)"
   ]
  },
  {
   "cell_type": "code",
   "execution_count": 81,
   "metadata": {
    "collapsed": true
   },
   "outputs": [],
   "source": [
    "ids = Table.read('best-legacy-lsbgs.csv')"
   ]
  },
  {
   "cell_type": "code",
   "execution_count": 120,
   "metadata": {},
   "outputs": [
    {
     "name": "stdout",
     "output_type": "stream",
     "text": [
      "749.0 191.652399121 -4.07374760412\n",
      "329.0 191.849916532 0.642942758837\n"
     ]
    }
   ],
   "source": [
    "for i in range(len(t['objid'])):\n",
    "    for j in range(len(ids['candidate_objid'])):\n",
    "        if t['objid'][i] == ids['candidate_objid'][j]:\n",
    "            print(t['objid'][i], t['ra'][i], t['dec'][i])"
   ]
  },
  {
   "cell_type": "code",
   "execution_count": 88,
   "metadata": {},
   "outputs": [
    {
     "data": {
      "text/plain": [
       "False"
      ]
     },
     "execution_count": 88,
     "metadata": {},
     "output_type": "execute_result"
    }
   ],
   "source": [
    "cut"
   ]
  },
  {
   "cell_type": "code",
   "execution_count": null,
   "metadata": {
    "collapsed": true
   },
   "outputs": [],
   "source": [
    "# Now let's put all of the arrays into a table object\n",
    "# ***Note: in Astropy.Table, it's much easier to add columns side-by-side than it is to vstack rows\n",
    "t = Table()\n",
    "\n",
    "#t['objid'] = Column(objid, unit='int32', description='Legacy objid')\n",
    "t['ra'] = Column(ra, unit='deg', description='object right ascension')\n",
    "t['dec'] = Column(dec, unit='deg', description='object declination')\n",
    "\n",
    "t['type'] = Column(typ, unit = '', description='object type char[4]')\n",
    "t['objid'] = Column(objid, unit='', description='integer ID tag for object')\n",
    "\n",
    "t['flux_r'] = Column(flux_r, unit='nanomaggies', description='flux_r')\n",
    "t['flux_g'] = Column(flux_g, unit='nanomaggies', description='flux_g')\n",
    "t['flux_z'] = Column(flux_z, unit='nanomaggies', description='flux_z')\n",
    "\n",
    "# aperture fluxes\n",
    "\n",
    "for i in range(8):\n",
    "    apname_r = \"apflux_\" + apid[i] + \"_r\"\n",
    "    apname_g = \"apflux_\" + apid[i] + \"_g\"\n",
    "    apname_z = \"apflux_\" + apid[i] + \"_z\"\n",
    "    t[apname_r] = Column(aparray_r[i], unit='nanomaggies', description = \"apname_r\")\n",
    "    t[apname_g] = Column(aparray_g[i], unit='nanomaggies', description = \"apname_g\")\n",
    "    t[apname_z] = Column(aparray_z[i], unit='nanomaggies', description = \"apname_z\")\n",
    "\n",
    "t['shapeexp_r'] = Column(shapeexp_r, unit='arcsec', description = 'exponential shape half-light radius')\n",
    "t['shapeexp_e1'] = Column(shapeexp_e1, unit='arcsec', description = 'ellipticipy argument 1')\n",
    "t['shapeexp_e2'] = Column(shapeexp_e2, unit='arcsec', description = 'ellipticipy argument 2')\n",
    "t['psfsize_r'] = Column(psfsize_r, unit='arcsec', description = 'weighted average PSF FWHM in r band')\n",
    "t['csb_g'] = Column(csb_g, unit='mag/arcsec^2', description = 'central surface brightness in g-band')\n",
    "\n",
    "#t['apflux_g'] = Column(apflux_g, unit='nanomaggies', description='0.75 arcsec aperture fluxes')\n",
    "#t['apflux_z'] = Column(apflux_z, unit='nanomaggies', description='0.75 arcsec aperture fluxes')\n",
    "#t['apflux_r'] = Column(apflux_r, unit='nanomaggies', description='0.75 arcsec aperture fluxes')\n",
    "\n",
    "ascii.write(t, 'tractor191color.csv', format='csv', fast_writer=False, overwrite=True) "
   ]
  },
  {
   "cell_type": "code",
   "execution_count": 15,
   "metadata": {},
   "outputs": [],
   "source": [
    "a = [1, 2, 3, 4, 5, 6]\n",
    "a = np.asarray(a)\n",
    "mask = a > 3\n",
    "\n",
    "cut = a < 6\n",
    "\n",
    "mask &=cut"
   ]
  },
  {
   "cell_type": "code",
   "execution_count": 16,
   "metadata": {},
   "outputs": [
    {
     "data": {
      "text/plain": [
       "array([False, False, False,  True,  True, False], dtype=bool)"
      ]
     },
     "execution_count": 16,
     "metadata": {},
     "output_type": "execute_result"
    }
   ],
   "source": [
    "mask"
   ]
  },
  {
   "cell_type": "code",
   "execution_count": null,
   "metadata": {
    "collapsed": true
   },
   "outputs": [],
   "source": []
  }
 ],
 "metadata": {
  "kernelspec": {
   "display_name": "Python 3",
   "language": "python",
   "name": "python3"
  },
  "language_info": {
   "codemirror_mode": {
    "name": "ipython",
    "version": 3
   },
   "file_extension": ".py",
   "mimetype": "text/x-python",
   "name": "python",
   "nbconvert_exporter": "python",
   "pygments_lexer": "ipython3",
   "version": "3.6.1"
  }
 },
 "nbformat": 4,
 "nbformat_minor": 2
}
